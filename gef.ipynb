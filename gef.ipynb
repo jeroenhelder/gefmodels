# -*- coding: utf-8 -*-
"""
Created on Fri Dec  4 13:48:01 2020

@author: Jeroen
"""
#%%
import os
import math
import numpy as np
import pandas as pd
#import peakutils
import matplotlib.pyplot as plt
from shapely.geometry.polygon import Polygon
from shapely.geometry import Point
import pygef
import geopandas as gpd


#%%
from pygef.gef import ParseGEF

# Read *.gef file
gef = ParseGEF("C:/Users/jhr/Google Drive/py/GEF/gefs/CPT000000004660_IMBRO_A.gef")

gef.plot(classification='robertson', water_level_NAP= -1, min_thickness= 0.2, show=True)  
#%%
my_dir = 'C:/Users/Jeroen/Google Drive/py/GEF/gefs/'


#df
columns = ['x', 'y', 'z', 'id',  'Maaiveld',
           'Datum', 'Diepte']
df = pd.DataFrame(columns=columns)

for file in os.listdir(my_dir):          
    #print (file)
    if file.endswith( '.gef'):
        #print(file)
        gef = ParseGEF(my_dir + '/'+ file )
        gef.df['depth'] =gef.zid- gef.df['depth']
        datum =gef.s[ gef.s.find("#STARTDATE")+12:gef.s.find("#STARTDATE")+24]
        dtm=datum.replace(', ','-')    
        date = dt.datetime.strptime( dtm, '%Y-%m-%d')
        df = df.append({'x': gef.x,
                    'y': gef.y, 
                   'z':gef.zid,  
                   'id': gef.test_id,  
                   'Maaiveld': gef.pre_excavated_depth,                   
                   'Datum': datum,
                   'Diepte': gef.end_depth_of_penetration_test}
                   , ignore_index=True)
        #df['x', 'y','z','Maaiveld','Diepte'] =  df['x', 'y', 'z','Maaiveld','Diepte'].apply(pd.to_numeric, errors='ignore')
        #df['Datum'] = df['Datum'].apply (pd.to_datetime, errors='ignore')
gdf = gpd.GeoDataFrame(
    df, geometry=gpd.points_from_xy(df.x, df.y))
# save the GeoDataFrame
gdf.to_file(driver = 'ESRI Shapefile', filename= "result.shp")
# or directly
gdf.to_file(dinodir + "result2.shp")        